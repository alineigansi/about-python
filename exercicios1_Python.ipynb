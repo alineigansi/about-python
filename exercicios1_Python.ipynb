{
  "nbformat": 4,
  "nbformat_minor": 0,
  "metadata": {
    "colab": {
      "name": "exercicios1_Python.ipynb",
      "provenance": []
    },
    "kernelspec": {
      "name": "python3",
      "display_name": "Python 3"
    }
  },
  "cells": [
    {
      "cell_type": "markdown",
      "metadata": {
        "id": "L_4vhE376Xg7",
        "colab_type": "text"
      },
      "source": [
        "**Exercício 1**\n",
        "<P> Faça um programa que leia o valor da temperatura da água. O sistema deve indicar o nível da temperatura de acordo com a tabela abaixo:\n",
        "<table align=left> \n",
        "<tr> <td> ºC </td> <td> NÍVEL </td></tr>\n",
        "\n",
        "<tr> <td> < 14 </td> <td> baixa </td></tr>\n",
        "\n",
        "<tr> <td> 15 a 20 </td><td> média </td></tr> \n",
        "\n",
        "<tr> <td> 21 a 27 </td><td> alta</td></tr>\n",
        "\n",
        "<tr> <td> > 27 </td><td> muito alta </td> </tr> </table>"
      ]
    },
    {
      "cell_type": "code",
      "metadata": {
        "id": "vun24F1edAWI",
        "colab_type": "code",
        "outputId": "2a22acc8-5240-400d-f5b3-7f689624b14b",
        "colab": {
          "base_uri": "https://localhost:8080/",
          "height": 50
        }
      },
      "source": [
        "temp = input('Qual a temperatura da água? = ')\n",
        "if (int(temp) <= 14):\n",
        "  print ('A temperatura está baixa!')\n",
        "elif (int(temp) > 14 and int(temp) <= 20):\n",
        "  print ('A temperatura da água está média!')\n",
        "elif (int(temp) > 20 and int(temp) <= 27):\n",
        "  print ('A temperatura da água está alta!')\n",
        "else:\n",
        "  print ('A temperatura da água está muito alta!')\n",
        "\n"
      ],
      "execution_count": 0,
      "outputs": [
        {
          "output_type": "stream",
          "text": [
            "Qual a temperatura da água? = 21\n",
            "A temperatura da água está alta!\n"
          ],
          "name": "stdout"
        }
      ]
    },
    {
      "cell_type": "markdown",
      "metadata": {
        "id": "5mqVE7v56jN7",
        "colab_type": "text"
      },
      "source": [
        "**Exercício 2**\n",
        "<P> Faça um programa que leia 5 valores, imprima os 5 valores na tela, e indique qual é o menor.\n"
      ]
    },
    {
      "cell_type": "code",
      "metadata": {
        "id": "JP0zi8gydHhB",
        "colab_type": "code",
        "outputId": "58b60438-4265-4b56-b260-e0f92acc25cb",
        "colab": {
          "base_uri": "https://localhost:8080/",
          "height": 118
        }
      },
      "source": [
        "valores = []\n",
        "for i in range(5):\n",
        "  valores.append(input('Digite um número: '))\n",
        "  valores.sort()\n",
        "print(valores[0])\n",
        "\n",
        "  "
      ],
      "execution_count": 0,
      "outputs": [
        {
          "output_type": "stream",
          "text": [
            "Digite um número: 43\n",
            "Digite um número: 5436\n",
            "Digite um número: 34\n",
            "Digite um número: 455\n",
            "Digite um número: 21\n",
            "21\n"
          ],
          "name": "stdout"
        }
      ]
    },
    {
      "cell_type": "markdown",
      "metadata": {
        "id": "mj5LnVHJ64YW",
        "colab_type": "text"
      },
      "source": [
        "**Exercício 3**\n",
        "<p> Faça um programa que leia os dois lados de um retângulo, podendo estes ser valores reais, e apresente sua área.\n"
      ]
    },
    {
      "cell_type": "code",
      "metadata": {
        "id": "hiUEpV3BwsiB",
        "colab_type": "code",
        "colab": {}
      },
      "source": [
        "def area_ret():\n",
        "  base = int(input('Valor da base do retângulo: '))\n",
        "  altura = int(input('Valor da altura do retângulo: '))\n",
        "  area_ret = base * altura\n",
        "  print('A área do retângulo é: ', area_ret)"
      ],
      "execution_count": 0,
      "outputs": []
    },
    {
      "cell_type": "code",
      "metadata": {
        "id": "A7l2RjwadH6S",
        "colab_type": "code",
        "outputId": "5af6c030-cb49-4e68-d352-1cfa3e8c50cf",
        "colab": {
          "base_uri": "https://localhost:8080/",
          "height": 67
        }
      },
      "source": [
        "area_ret()\n",
        "\n"
      ],
      "execution_count": 0,
      "outputs": [
        {
          "output_type": "stream",
          "text": [
            "Valor da base do retângulo: 3\n",
            "Valor da altura do retângulo: 3\n",
            "A área do retângulo é:  9\n"
          ],
          "name": "stdout"
        }
      ]
    },
    {
      "cell_type": "markdown",
      "metadata": {
        "id": "mcYoMy5I9tUe",
        "colab_type": "text"
      },
      "source": [
        "**Exercício 4**\n",
        "<p> Faça um programa que leia 4 valores, e imprima a soma dos 4 elementos e apresente sua média.\n"
      ]
    },
    {
      "cell_type": "code",
      "metadata": {
        "id": "a_Yj9X2L9xIC",
        "colab_type": "code",
        "colab": {}
      },
      "source": [
        "def val():\n",
        "  valores = []\n",
        "  while (len(valores)) < 4:\n",
        "    valores.append(input('Digite um valor numérico: '))\n",
        "  soma = sum([int(x) for x in valores])\n",
        "  media = soma/4\n",
        "  print('A soma dos valores é ', soma, '; a média dos valores é ', media)"
      ],
      "execution_count": 0,
      "outputs": []
    },
    {
      "cell_type": "code",
      "metadata": {
        "id": "UUawe5Ulez8A",
        "colab_type": "code",
        "colab": {
          "base_uri": "https://localhost:8080/",
          "height": 101
        },
        "outputId": "257849a0-0de6-440c-823f-96db77920e5c"
      },
      "source": [
        "val()\n"
      ],
      "execution_count": 38,
      "outputs": [
        {
          "output_type": "stream",
          "text": [
            "Digite um valor numérico: 4\n",
            "Digite um valor numérico: 4\n",
            "Digite um valor numérico: 5\n",
            "Digite um valor numérico: 5\n",
            "A soma dos valores é  18 ; a média dos valores é  4.5\n"
          ],
          "name": "stdout"
        }
      ]
    }
  ]
}