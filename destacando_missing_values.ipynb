{
  "nbformat": 4,
  "nbformat_minor": 0,
  "metadata": {
    "colab": {
      "name": "destacando_missing_values.ipynb",
      "provenance": []
    },
    "kernelspec": {
      "name": "python3",
      "display_name": "Python 3"
    }
  },
  "cells": [
    {
      "cell_type": "markdown",
      "metadata": {
        "id": "9G6rs3euybNi",
        "colab_type": "text"
      },
      "source": [
        "## Destacando Missing Values ##"
      ]
    },
    {
      "cell_type": "code",
      "metadata": {
        "id": "evNpuqPJyXf3",
        "colab_type": "code",
        "colab": {}
      },
      "source": [
        "import pandas as pd\n",
        "import numpy as np"
      ],
      "execution_count": 0,
      "outputs": []
    },
    {
      "cell_type": "code",
      "metadata": {
        "id": "CDh5ScOXys3h",
        "colab_type": "code",
        "colab": {}
      },
      "source": [
        "df = pd.DataFrame({'Nome': ['Lucas', 'Pedro', 'Larissa', np.nan, 'Juliana', 'Marcos', 'Ana', 'Letícia', 'Silvana', 'np.nan'], 'Idade': [20, np.nan, 32, 29, 26, np.nan, 33, 24, 36, 21]})"
      ],
      "execution_count": 0,
      "outputs": []
    },
    {
      "cell_type": "code",
      "metadata": {
        "id": "ArNg896-zqNE",
        "colab_type": "code",
        "colab": {
          "base_uri": "https://localhost:8080/",
          "height": 238
        },
        "outputId": "7cd29e52-4354-40d7-b151-b70d48f74299"
      },
      "source": [
        "df.style.highlight_null(null_color='red')"
      ],
      "execution_count": 7,
      "outputs": [
        {
          "output_type": "execute_result",
          "data": {
            "text/html": [
              "<style  type=\"text/css\" >\n",
              "    #T_0bdc1b76_a450_11ea_95ea_0242ac1c0002row1_col1 {\n",
              "            background-color:  red;\n",
              "        }    #T_0bdc1b76_a450_11ea_95ea_0242ac1c0002row3_col0 {\n",
              "            background-color:  red;\n",
              "        }    #T_0bdc1b76_a450_11ea_95ea_0242ac1c0002row5_col1 {\n",
              "            background-color:  red;\n",
              "        }</style><table id=\"T_0bdc1b76_a450_11ea_95ea_0242ac1c0002\" ><thead>    <tr>        <th class=\"blank level0\" ></th>        <th class=\"col_heading level0 col0\" >Nome</th>        <th class=\"col_heading level0 col1\" >Idade</th>    </tr></thead><tbody>\n",
              "                <tr>\n",
              "                        <th id=\"T_0bdc1b76_a450_11ea_95ea_0242ac1c0002level0_row0\" class=\"row_heading level0 row0\" >0</th>\n",
              "                        <td id=\"T_0bdc1b76_a450_11ea_95ea_0242ac1c0002row0_col0\" class=\"data row0 col0\" >Lucas</td>\n",
              "                        <td id=\"T_0bdc1b76_a450_11ea_95ea_0242ac1c0002row0_col1\" class=\"data row0 col1\" >20.000000</td>\n",
              "            </tr>\n",
              "            <tr>\n",
              "                        <th id=\"T_0bdc1b76_a450_11ea_95ea_0242ac1c0002level0_row1\" class=\"row_heading level0 row1\" >1</th>\n",
              "                        <td id=\"T_0bdc1b76_a450_11ea_95ea_0242ac1c0002row1_col0\" class=\"data row1 col0\" >Pedro</td>\n",
              "                        <td id=\"T_0bdc1b76_a450_11ea_95ea_0242ac1c0002row1_col1\" class=\"data row1 col1\" >nan</td>\n",
              "            </tr>\n",
              "            <tr>\n",
              "                        <th id=\"T_0bdc1b76_a450_11ea_95ea_0242ac1c0002level0_row2\" class=\"row_heading level0 row2\" >2</th>\n",
              "                        <td id=\"T_0bdc1b76_a450_11ea_95ea_0242ac1c0002row2_col0\" class=\"data row2 col0\" >Larissa</td>\n",
              "                        <td id=\"T_0bdc1b76_a450_11ea_95ea_0242ac1c0002row2_col1\" class=\"data row2 col1\" >32.000000</td>\n",
              "            </tr>\n",
              "            <tr>\n",
              "                        <th id=\"T_0bdc1b76_a450_11ea_95ea_0242ac1c0002level0_row3\" class=\"row_heading level0 row3\" >3</th>\n",
              "                        <td id=\"T_0bdc1b76_a450_11ea_95ea_0242ac1c0002row3_col0\" class=\"data row3 col0\" >nan</td>\n",
              "                        <td id=\"T_0bdc1b76_a450_11ea_95ea_0242ac1c0002row3_col1\" class=\"data row3 col1\" >29.000000</td>\n",
              "            </tr>\n",
              "            <tr>\n",
              "                        <th id=\"T_0bdc1b76_a450_11ea_95ea_0242ac1c0002level0_row4\" class=\"row_heading level0 row4\" >4</th>\n",
              "                        <td id=\"T_0bdc1b76_a450_11ea_95ea_0242ac1c0002row4_col0\" class=\"data row4 col0\" >Juliana</td>\n",
              "                        <td id=\"T_0bdc1b76_a450_11ea_95ea_0242ac1c0002row4_col1\" class=\"data row4 col1\" >26.000000</td>\n",
              "            </tr>\n",
              "            <tr>\n",
              "                        <th id=\"T_0bdc1b76_a450_11ea_95ea_0242ac1c0002level0_row5\" class=\"row_heading level0 row5\" >5</th>\n",
              "                        <td id=\"T_0bdc1b76_a450_11ea_95ea_0242ac1c0002row5_col0\" class=\"data row5 col0\" >Marcos</td>\n",
              "                        <td id=\"T_0bdc1b76_a450_11ea_95ea_0242ac1c0002row5_col1\" class=\"data row5 col1\" >nan</td>\n",
              "            </tr>\n",
              "            <tr>\n",
              "                        <th id=\"T_0bdc1b76_a450_11ea_95ea_0242ac1c0002level0_row6\" class=\"row_heading level0 row6\" >6</th>\n",
              "                        <td id=\"T_0bdc1b76_a450_11ea_95ea_0242ac1c0002row6_col0\" class=\"data row6 col0\" >Ana</td>\n",
              "                        <td id=\"T_0bdc1b76_a450_11ea_95ea_0242ac1c0002row6_col1\" class=\"data row6 col1\" >33.000000</td>\n",
              "            </tr>\n",
              "            <tr>\n",
              "                        <th id=\"T_0bdc1b76_a450_11ea_95ea_0242ac1c0002level0_row7\" class=\"row_heading level0 row7\" >7</th>\n",
              "                        <td id=\"T_0bdc1b76_a450_11ea_95ea_0242ac1c0002row7_col0\" class=\"data row7 col0\" >Letícia</td>\n",
              "                        <td id=\"T_0bdc1b76_a450_11ea_95ea_0242ac1c0002row7_col1\" class=\"data row7 col1\" >24.000000</td>\n",
              "            </tr>\n",
              "            <tr>\n",
              "                        <th id=\"T_0bdc1b76_a450_11ea_95ea_0242ac1c0002level0_row8\" class=\"row_heading level0 row8\" >8</th>\n",
              "                        <td id=\"T_0bdc1b76_a450_11ea_95ea_0242ac1c0002row8_col0\" class=\"data row8 col0\" >Silvana</td>\n",
              "                        <td id=\"T_0bdc1b76_a450_11ea_95ea_0242ac1c0002row8_col1\" class=\"data row8 col1\" >36.000000</td>\n",
              "            </tr>\n",
              "            <tr>\n",
              "                        <th id=\"T_0bdc1b76_a450_11ea_95ea_0242ac1c0002level0_row9\" class=\"row_heading level0 row9\" >9</th>\n",
              "                        <td id=\"T_0bdc1b76_a450_11ea_95ea_0242ac1c0002row9_col0\" class=\"data row9 col0\" >np.nan</td>\n",
              "                        <td id=\"T_0bdc1b76_a450_11ea_95ea_0242ac1c0002row9_col1\" class=\"data row9 col1\" >21.000000</td>\n",
              "            </tr>\n",
              "    </tbody></table>"
            ],
            "text/plain": [
              "<pandas.io.formats.style.Styler at 0x7f15c0612668>"
            ]
          },
          "metadata": {
            "tags": []
          },
          "execution_count": 7
        }
      ]
    }
  ]
}